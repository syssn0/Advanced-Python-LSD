{
 "cells": [
  {
   "cell_type": "markdown",
   "id": "40abd2d6",
   "metadata": {},
   "source": [
    "## 1. Simple Thread Creation\n",
    "\n",
    "Create a simple program that uses threading to print numbers from 1 to 5 in two separate threads."
   ]
  },
  {
   "cell_type": "code",
   "execution_count": 1,
   "id": "90614859",
   "metadata": {},
   "outputs": [
    {
     "name": "stdout",
     "output_type": "stream",
     "text": [
      "1\n",
      "2\n",
      "3\n",
      "4\n",
      "5\n",
      "1\n",
      "2\n",
      "3\n",
      "4\n",
      "5\n"
     ]
    }
   ],
   "source": [
    "import threading\n",
    "\n",
    "def print_numbers():\n",
    "    for i in range(1, 6):\n",
    "        print(i)\n",
    "\n",
    "# Create two threads\n",
    "thread1 = threading.Thread(target=print_numbers)\n",
    "thread2 = threading.Thread(target=print_numbers)\n",
    "\n",
    "# Start the threads\n",
    "thread1.start()\n",
    "thread2.start()\n",
    "\n",
    "# Wait for both threads to finish\n",
    "thread1.join()\n",
    "thread2.join()\n"
   ]
  },
  {
   "cell_type": "markdown",
   "id": "4ec69b3e",
   "metadata": {},
   "source": [
    "## 2. Thread Synchronization\n",
    "\n",
    "Modify the program from Exercise 1 to use locks to synchronize the two threads and ensure that they print numbers alternately."
   ]
  },
  {
   "cell_type": "code",
   "execution_count": 26,
   "id": "fa073802",
   "metadata": {},
   "outputs": [
    {
     "name": "stdout",
     "output_type": "stream",
     "text": [
      "Thread 1 affiche 1\n",
      "Thread 1 affiche 2\n",
      "Thread 1 affiche 3\n",
      "Thread 1 affiche 4\n",
      "Thread 1 affiche 5\n"
     ]
    }
   ],
   "source": [
    "import threading\n",
    "from multiprocessing import Value\n",
    "\n",
    "# Définir un verrou\n",
    "lock = threading.Lock()\n",
    "\n",
    "# Utiliser multiprocessing.Value pour partager l'indice actuel\n",
    "current_index = Value('i', 0)\n",
    "\n",
    "def print_numbers(thread_name, numbers):\n",
    "    global current_index\n",
    "    while True:\n",
    "        with lock:\n",
    "            if current_index.value < len(numbers):\n",
    "                num = numbers[current_index.value]\n",
    "                print(thread_name, \"affiche\", num)\n",
    "                current_index.value += 1\n",
    "            else:\n",
    "                break\n",
    "\n",
    "# Liste de nombres à imprimer\n",
    "number_list = [1, 2, 3, 4, 5]\n",
    "\n",
    "# Créer deux threads\n",
    "thread1 = threading.Thread(target=print_numbers, args=(\"Thread 1\", number_list))\n",
    "thread2 = threading.Thread(target=print_numbers, args=(\"Thread 2\", number_list))\n",
    "\n",
    "# Démarrer les threads\n",
    "thread1.start()\n",
    "thread2.start()\n",
    "\n",
    "# Attendre que les deux threads se terminent\n",
    "thread1.join()\n",
    "thread2.join()\n"
   ]
  },
  {
   "cell_type": "markdown",
   "id": "fff5d2ac",
   "metadata": {},
   "source": [
    "## 3. Thread Pooling\n",
    "\n",
    "Use the `concurrent.futures.ThreadPoolExecutor` module to create a thread pool and parallelize a task (e.g., calculating the square of numbers) among multiple threads.\n",
    "\n",
    "```python\n",
    "numbers = [1, 2, 3, 4, 5]\n",
    "```"
   ]
  },
  {
   "cell_type": "code",
   "execution_count": 2,
   "id": "969d9e35",
   "metadata": {},
   "outputs": [
    {
     "name": "stdout",
     "output_type": "stream",
     "text": [
      "9\n",
      "1\n",
      "4\n",
      "16\n",
      "25\n"
     ]
    }
   ],
   "source": [
    "import concurrent.futures\n",
    "\n",
    "# Define a function to calculate the square of a number\n",
    "def calculate_square(number):\n",
    "    return number ** 2\n",
    "\n",
    "# List of numbers\n",
    "numbers = [1, 2, 3, 4, 5]\n",
    "\n",
    "# Create a ThreadPoolExecutor with 2 threads\n",
    "with concurrent.futures.ThreadPoolExecutor(max_workers=2) as executor:\n",
    "    # Submit the tasks to the executor and get the futures\n",
    "    futures = [executor.submit(calculate_square, number) for number in numbers]\n",
    "    \n",
    "    # Iterate over the completed futures to get the results\n",
    "    for future in concurrent.futures.as_completed(futures):\n",
    "        # Get the result from the future\n",
    "        result = future.result()\n",
    "        print(result)\n"
   ]
  },
  {
   "cell_type": "markdown",
   "id": "fcee631c",
   "metadata": {},
   "source": [
    "## 4. Thread with Function Arguments\n",
    "\n",
    "```python\n",
    "\n",
    "import threading\n",
    "import time\n",
    "\n",
    "def print_hello():\n",
    "    for _ in range(5):\n",
    "        print(\"Hello, \", end='')\n",
    "        time.sleep(0.1)\n",
    "\n",
    "def print_world():\n",
    "    for _ in range(5):\n",
    "        print(\"World!\")\n",
    "        time.sleep(0.1)\n",
    "\n",
    "# Create two threads\n",
    "thread1 = threading.Thread(target=print_hello)\n",
    "thread2 = threading.Thread(target=print_world)\n",
    "\n",
    "# Start the threads\n",
    "thread1.start()\n",
    "thread2.start()\n",
    "\n",
    "# Wait for both threads to finish\n",
    "thread1.join()\n",
    "thread2.join()\n",
    "```\n",
    "\n",
    "Modify this program to pass an argument to the threads and print the thread's name along with the message."
   ]
  },
  {
   "cell_type": "code",
   "execution_count": 3,
   "id": "d831f564",
   "metadata": {},
   "outputs": [
    {
     "name": "stdout",
     "output_type": "stream",
     "text": [
      "Hello, Thread 1World! from Thread 2\n",
      "Hello, Thread 1World! from Thread 2\n",
      "Hello, Thread 1World! from Thread 2\n",
      "Hello, Thread 1World! from Thread 2\n",
      "Hello, Thread 1World! from Thread 2\n"
     ]
    }
   ],
   "source": [
    "import threading\n",
    "import time\n",
    "\n",
    "def print_hello(name):\n",
    "    for _ in range(5):\n",
    "        print(f\"Hello, {name}\", end='')\n",
    "        time.sleep(0.1)\n",
    "\n",
    "def print_world(name):\n",
    "    for _ in range(5):\n",
    "        print(f\"World! from {name}\")\n",
    "        time.sleep(0.1)\n",
    "\n",
    "# Create two threads with different names\n",
    "thread1 = threading.Thread(target=print_hello, args=(\"Thread 1\",))\n",
    "thread2 = threading.Thread(target=print_world, args=(\"Thread 2\",))\n",
    "\n",
    "# Start the threads\n",
    "thread1.start()\n",
    "thread2.start()\n",
    "\n",
    "# Wait for both threads to finish\n",
    "thread1.join()\n",
    "thread2.join()\n"
   ]
  },
  {
   "cell_type": "code",
   "execution_count": 13,
   "id": "0baec442",
   "metadata": {},
   "outputs": [
    {
     "name": "stdout",
     "output_type": "stream",
     "text": [
      "Final Counter Value: 2000000\n"
     ]
    }
   ],
   "source": []
  }
 ],
 "metadata": {
  "kernelspec": {
   "display_name": "Python 3 (ipykernel)",
   "language": "python",
   "name": "python3"
  },
  "language_info": {
   "codemirror_mode": {
    "name": "ipython",
    "version": 3
   },
   "file_extension": ".py",
   "mimetype": "text/x-python",
   "name": "python",
   "nbconvert_exporter": "python",
   "pygments_lexer": "ipython3",
   "version": "3.11.5"
  }
 },
 "nbformat": 4,
 "nbformat_minor": 5
}
