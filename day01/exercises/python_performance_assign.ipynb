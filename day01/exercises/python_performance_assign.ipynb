{
 "cells": [
  {
   "cell_type": "markdown",
   "id": "76226159",
   "metadata": {},
   "source": [
    "<h1 align=\"center\">Python performance exercises</h1>"
   ]
  },
  {
   "cell_type": "markdown",
   "id": "487a20b2",
   "metadata": {},
   "source": [
    "## Python best practices exercises"
   ]
  },
  {
   "cell_type": "markdown",
   "id": "49f9bcda",
   "metadata": {},
   "source": [
    "### Exercise 1\n",
    "\n",
    "considering the following function for concatenating list strings with delimiter."
   ]
  },
  {
   "cell_type": "code",
   "execution_count": 7,
   "id": "41721b4f",
   "metadata": {},
   "outputs": [],
   "source": [
    "def ft_concatenate(l_strings, d):\n",
    "    \"\"\"concatenate list of strings into one string separated by delimiter\"\"\"\n",
    "    res = l_strings[0]\n",
    "    for e in l_strings[1:]:\n",
    "        res = res + d + e\n",
    "    return res"
   ]
  },
  {
   "cell_type": "markdown",
   "id": "74ca931f",
   "metadata": {},
   "source": [
    "- profile the function and identify the bottlenecks.\n",
    "- improve speed up of the function\n",
    "*Hint: you may need to look to the string functions in python documentation*"
   ]
  },
  {
   "cell_type": "code",
   "execution_count": 1,
   "id": "19e0bb1e",
   "metadata": {},
   "outputs": [
    {
     "name": "stdout",
     "output_type": "stream",
     "text": [
      "         4 function calls in 0.000 seconds\n",
      "\n",
      "   Ordered by: standard name\n",
      "\n",
      "   ncalls  tottime  percall  cumtime  percall filename:lineno(function)\n",
      "        1    0.000    0.000    0.000    0.000 2654755229.py:3(ft_concatenate)\n",
      "        1    0.000    0.000    0.000    0.000 <string>:1(<module>)\n",
      "        1    0.000    0.000    0.000    0.000 {built-in method builtins.exec}\n",
      "        1    0.000    0.000    0.000    0.000 {method 'disable' of '_lsprof.Profiler' objects}\n",
      "\n",
      "\n",
      "Hello, world, Python\n"
     ]
    }
   ],
   "source": [
    "import cProfile\n",
    "\n",
    "def ft_concatenate(l_strings, d):\n",
    "    \n",
    "    res = l_strings[0]\n",
    "    for e in l_strings[1:]:\n",
    "        res = res + d + e\n",
    "    return res\n",
    "\n",
    "def ft_concatenate_optimized(l_strings, d):\n",
    "    return d.join(l_strings)\n",
    "\n",
    "\n",
    "cProfile.run('ft_concatenate([\"Hello\", \"world\", \"Python\"], \", \")')\n",
    "\n",
    "print(ft_concatenate_optimized([\"Hello\", \"world\", \"Python\"], \", \"))\n"
   ]
  },
  {
   "cell_type": "markdown",
   "id": "b7106f58",
   "metadata": {},
   "source": [
    "### Exercise 2\n",
    "\n",
    "In this exercise you will solve the following problem using two methods bruteforce method, and fast method.\n",
    "\n",
    "**Problem:** You are given a list of n integers, and your task is to calculate the number of distinct values in the list.\n",
    "\n",
    "**Example**\n",
    "- Input:\n",
    "5\n",
    "2 3 2 2 3\n",
    "\n",
    "- Output:\n",
    "2\n",
    "\n",
    "**Implement the following methods:**\n",
    "\n",
    "1. **bruteforce method:** create an empty list and start adding items for the given list without adding the previous item add, at the end the result list will contain unique values, print lenght of the list and you are done. \n",
    "2. **fast method** think of using Set data structure.\n",
    "\n",
    "- time the two methods, what do you think?"
   ]
  },
  {
   "cell_type": "code",
   "execution_count": 2,
   "id": "db5e585a",
   "metadata": {},
   "outputs": [],
   "source": [
    "import time\n",
    "\n",
    "# Brute-force method\n",
    "def distinct_values_bruteforce(lst):\n",
    "    distinct_values = []\n",
    "    for item in lst:\n",
    "        if item not in distinct_values:\n",
    "            distinct_values.append(item)\n",
    "    return len(distinct_values)\n",
    "\n"
   ]
  },
  {
   "cell_type": "code",
   "execution_count": 4,
   "id": "6fb3ef57",
   "metadata": {},
   "outputs": [],
   "source": [
    "import time\n",
    "\n",
    "# Brute-force method\n",
    "def distinct_values_bruteforce(lst):\n",
    "    distinct_values = []\n",
    "    for item in lst:\n",
    "        if item not in distinct_values:\n",
    "            distinct_values.append(item)\n",
    "    return len(distinct_values)\n",
    "\n"
   ]
  },
  {
   "cell_type": "code",
   "execution_count": 3,
   "id": "72cc5f2c",
   "metadata": {},
   "outputs": [
    {
     "name": "stdout",
     "output_type": "stream",
     "text": [
      "Brute-force method result: 2\n",
      "Fast method result: 2\n",
      "Time taken by brute-force method: 0.0\n",
      "Time taken by fast method: 0.0\n"
     ]
    }
   ],
   "source": [
    "import time\n",
    "# Fast method using Set data structure\n",
    "def distinct_values_fast(lst):\n",
    "    return len(set(lst))\n",
    "\n",
    "# Example input\n",
    "input_list = [2, 3, 2, 2, 3]\n",
    "\n",
    "# Timing the brute-force method\n",
    "start_time = time.time()\n",
    "result_bruteforce = distinct_values_bruteforce(input_list)\n",
    "end_time = time.time()\n",
    "bruteforce_time = end_time - start_time\n",
    "\n",
    "# Timing the fast method\n",
    "start_time = time.time()\n",
    "result_fast = distinct_values_fast(input_list)\n",
    "end_time = time.time()\n",
    "fast_method_time = end_time - start_time\n",
    "\n",
    "print(\"Brute-force method result:\", result_bruteforce)\n",
    "print(\"Fast method result:\", result_fast)\n",
    "\n",
    "print(\"Time taken by brute-force method:\", bruteforce_time)\n",
    "print(\"Time taken by fast method:\", fast_method_time)\n",
    "\n"
   ]
  },
  {
   "cell_type": "markdown",
   "id": "1c9918da",
   "metadata": {},
   "source": [
    "## Cython exercises"
   ]
  },
  {
   "cell_type": "markdown",
   "id": "162f4a39",
   "metadata": {},
   "source": [
    "### Exercise 1"
   ]
  },
  {
   "cell_type": "markdown",
   "id": "9f788bd1",
   "metadata": {},
   "source": [
    "1. load the cython extension."
   ]
  },
  {
   "cell_type": "code",
   "execution_count": 6,
   "id": "4e658529",
   "metadata": {},
   "outputs": [
    {
     "ename": "ModuleNotFoundError",
     "evalue": "No module named 'pyximport'",
     "output_type": "error",
     "traceback": [
      "\u001b[1;31m---------------------------------------------------------------------------\u001b[0m",
      "\u001b[1;31mModuleNotFoundError\u001b[0m                       Traceback (most recent call last)",
      "Cell \u001b[1;32mIn[6], line 2\u001b[0m\n\u001b[0;32m      1\u001b[0m \u001b[38;5;66;03m# Load Cython extension\u001b[39;00m\n\u001b[1;32m----> 2\u001b[0m \u001b[38;5;28;01mimport\u001b[39;00m \u001b[38;5;21;01mpyximport\u001b[39;00m\n\u001b[0;32m      3\u001b[0m pyximport\u001b[38;5;241m.\u001b[39minstall()\n\u001b[0;32m      5\u001b[0m \u001b[38;5;66;03m# Import the Cython module\u001b[39;00m\n",
      "\u001b[1;31mModuleNotFoundError\u001b[0m: No module named 'pyximport'"
     ]
    }
   ],
   "source": [
    "# Load Cython extension\n",
    "import pyximport\n",
    "pyximport.install()\n",
    "import my_module\n",
    "my_module.my_function()\n"
   ]
  },
  {
   "cell_type": "markdown",
   "id": "8a15f184",
   "metadata": {},
   "source": [
    "2. Considering the following polynomial function:"
   ]
  },
  {
   "cell_type": "code",
   "execution_count": 3,
   "id": "80892e18",
   "metadata": {},
   "outputs": [],
   "source": [
    "%%cython \n",
    "def poly(a,b):\n",
    "    return 10.5 * a + 3 * (b**2)"
   ]
  },
  {
   "cell_type": "markdown",
   "id": "a23e7b2c",
   "metadata": {},
   "source": [
    "- Create an equivalent Cython function of `poly` with name `poly_cy`."
   ]
  },
  {
   "cell_type": "code",
   "execution_count": 8,
   "id": "063605ea",
   "metadata": {
    "scrolled": true
   },
   "outputs": [
    {
     "ename": "ModuleNotFoundError",
     "evalue": "No module named 'pyximport'",
     "output_type": "error",
     "traceback": [
      "\u001b[1;31m---------------------------------------------------------------------------\u001b[0m",
      "\u001b[1;31mModuleNotFoundError\u001b[0m                       Traceback (most recent call last)",
      "Cell \u001b[1;32mIn[8], line 2\u001b[0m\n\u001b[0;32m      1\u001b[0m \u001b[38;5;66;03m# Dans votre script Python\u001b[39;00m\n\u001b[1;32m----> 2\u001b[0m \u001b[38;5;28;01mimport\u001b[39;00m \u001b[38;5;21;01mpyximport\u001b[39;00m\n\u001b[0;32m      3\u001b[0m pyximport\u001b[38;5;241m.\u001b[39minstall()\n\u001b[0;32m      5\u001b[0m \u001b[38;5;66;03m# Importez la fonction Cython depuis le fichier .pyx\u001b[39;00m\n",
      "\u001b[1;31mModuleNotFoundError\u001b[0m: No module named 'pyximport'"
     ]
    }
   ],
   "source": [
    "\n",
    "import pyximport\n",
    "pyximport.install()\n",
    "from poly_cy import poly_cy\n",
    "\n",
    "result = poly_cy(2.5, 3.0)\n",
    "print(result)\n",
    "\n"
   ]
  },
  {
   "cell_type": "markdown",
   "id": "2e4ef434",
   "metadata": {},
   "source": [
    "3. time the performance of Python and Cython version of the function, what is the factor of speed up between the two verions."
   ]
  },
  {
   "cell_type": "code",
   "execution_count": 9,
   "id": "5750d6e8",
   "metadata": {},
   "outputs": [
    {
     "ename": "ModuleNotFoundError",
     "evalue": "No module named 'pyximport'",
     "output_type": "error",
     "traceback": [
      "\u001b[1;31m---------------------------------------------------------------------------\u001b[0m",
      "\u001b[1;31mModuleNotFoundError\u001b[0m                       Traceback (most recent call last)",
      "Cell \u001b[1;32mIn[9], line 6\u001b[0m\n\u001b[0;32m      3\u001b[0m \u001b[38;5;28;01mdef\u001b[39;00m \u001b[38;5;21mpoly\u001b[39m(a, b):\n\u001b[0;32m      4\u001b[0m     \u001b[38;5;28;01mreturn\u001b[39;00m \u001b[38;5;241m10.5\u001b[39m \u001b[38;5;241m*\u001b[39m a \u001b[38;5;241m+\u001b[39m \u001b[38;5;241m3\u001b[39m \u001b[38;5;241m*\u001b[39m (b\u001b[38;5;241m*\u001b[39m\u001b[38;5;241m*\u001b[39m\u001b[38;5;241m2\u001b[39m)\n\u001b[1;32m----> 6\u001b[0m \u001b[38;5;28;01mimport\u001b[39;00m \u001b[38;5;21;01mpyximport\u001b[39;00m\n\u001b[0;32m      7\u001b[0m pyximport\u001b[38;5;241m.\u001b[39minstall()\n\u001b[0;32m      8\u001b[0m \u001b[38;5;28;01mfrom\u001b[39;00m \u001b[38;5;21;01mpoly_cy\u001b[39;00m \u001b[38;5;28;01mimport\u001b[39;00m poly_cy\n",
      "\u001b[1;31mModuleNotFoundError\u001b[0m: No module named 'pyximport'"
     ]
    }
   ],
   "source": [
    "import timeit\n",
    "\n",
    "def poly(a, b):\n",
    "    return 10.5 * a + 3 * (b**2)\n",
    "\n",
    "import pyximport\n",
    "pyximport.install()\n",
    "from poly_cy import poly_cy\n",
    "\n",
    "\n",
    "python_time = timeit.timeit(\"poly(2.5, 3.0)\", globals=globals(), number=100000)\n",
    "\n",
    "\n",
    "cython_time = timeit.timeit(\"poly_cy(2.5, 3.0)\", globals=globals(), number=100000)\n",
    "speedup_factor = python_time / cython_time\n",
    "\n",
    "print(\"Temps d'exécution pour la version Python:\", python_time)\n",
    "print(\"Temps d'exécution pour la version Cython:\", cython_time)\n",
    "print(\"Facteur de gain de performance:\", speedup_factor)\n"
   ]
  },
  {
   "cell_type": "markdown",
   "id": "b48ca37e",
   "metadata": {},
   "source": [
    "4. Now let's work on another example using loop.\n",
    "    - rewrite the same function below fib that calculates the fibonacci sequence using cython, but now try to add type for the variables used inside it, add a prefix `_cy` to your new cython function."
   ]
  },
  {
   "cell_type": "code",
   "execution_count": 14,
   "id": "8d9d12a4",
   "metadata": {},
   "outputs": [],
   "source": [
    "def fib(n):\n",
    "    a, b = 1, 1\n",
    "    for i in range(n):\n",
    "        a, b = a + b, a\n",
    "\n",
    "    return a"
   ]
  },
  {
   "cell_type": "code",
   "execution_count": 15,
   "id": "7fb03878",
   "metadata": {},
   "outputs": [],
   "source": [
    "%%cython\n",
    "\n",
    "def fib_cy(int n):\n",
    "    cdef int a = 1\n",
    "    cdef int b = 1\n",
    "    cdef int i\n",
    "\n",
    "    for i in range(n):\n",
    "        a, b = a + b, a\n",
    "\n",
    "    return a\n"
   ]
  },
  {
   "cell_type": "markdown",
   "id": "f417a4ab",
   "metadata": {},
   "source": [
    "- time the two function for fibonacci series, with n = 20, what is the factor of speed now, What do you think?"
   ]
  },
  {
   "cell_type": "code",
   "execution_count": 16,
   "id": "a5980706",
   "metadata": {},
   "outputs": [],
   "source": [
    "import timeit\n",
    "\n",
    "# Fonction Python pour calculer la série de Fibonacci\n",
    "def fib_py(n):\n",
    "    a, b = 1, 1\n",
    "    for i in range(n):\n",
    "        a, b = a + b, a\n",
    "    return a\n",
    "\n",
    "# Fonction Cython pour calculer la série de Fibonacci\n",
    "import pyximport\n",
    "pyximport.install()\n",
    "from fib_cy import fib_cy\n",
    "\n",
    "# Mesure du temps d'exécution pour la version Python\n",
    "python_time = timeit.timeit(\"fib_py(20)\", globals=globals(), number=100000)\n",
    "\n",
    "# Mesure du temps d'exécution pour la version Cython\n",
    "cython_time = timeit.timeit(\"fib_cy(20)\", globals=globals(), number=100000)\n",
    "\n",
    "# Calcul du facteur de gain de performance\n",
    "speedup_factor = python_time / cython_time\n",
    "\n",
    "print(\"Temps d'exécution pour la version Python:\", python_time)\n",
    "print(\"Temps d'exécution pour la version Cython:\", cython_time)\n",
    "print(\"Facteur de gain de performance:\", speedup_factor)\n"
   ]
  },
  {
   "cell_type": "markdown",
   "id": "d7f325a5",
   "metadata": {},
   "source": [
    "5. Recursive functions are functions that call themselves during their execution. Another interesting property of the Fibonacci sequence is that it can be written as a recursive function. That’s because each item depends on the values of other items (namely item n-1 and item n-2)\n",
    "\n",
    "- Rewrite the fib function using recursion. Is it faster than the non-recursive version? Does Cythonizing it give even more of an advantage? "
   ]
  },
  {
   "cell_type": "code",
   "execution_count": 17,
   "id": "50b2d8f9",
   "metadata": {},
   "outputs": [],
   "source": [
    "import timeit\n",
    "\n",
    "# Fonction Python récursive pour calculer la série de Fibonacci\n",
    "def fib_recursive(n):\n",
    "    if n <= 1:\n",
    "        return n\n",
    "    else:\n",
    "        return fib_recursive(n-1) + fib_recursive(n-2)\n",
    "\n",
    "# Mesure du temps d'exécution pour la version récursive\n",
    "recursive_time = timeit.timeit(\"fib_recursive(20)\", globals=globals(), number=100)\n",
    "\n",
    "print(\"Temps d'exécution pour la version récursive:\", recursive_time)\n"
   ]
  },
  {
   "cell_type": "markdown",
   "id": "28c63456",
   "metadata": {},
   "source": [
    "### Exercise 2\n",
    "\n",
    "- Monte Carlo methods are a broad class of computational algorithms that rely on repeated random sampling to obtain numerical results. \n",
    "- One of the basic examples of getting started with the Monte Carlo algorithm is the estimation of Pi.\n",
    "\n",
    "**Estimation of Pi**\n",
    "\n",
    "- The idea is to simulate random (x, y) points in a 2-D plane with domain as a square of side 1 unit. \n",
    "- Imagine a circle inside the same domain with same diameter and inscribed into the square. \n",
    "- We then calculate the ratio of number points that lied inside the circle and total number of generated points. \n",
    "- Refer to the image below:\n",
    "\n",
    "![demo](../data/MonteCarloPlot.png)\n",
    "\n",
    "We know that area of the square is 1 unit sq while that of circle is $\\pi \\ast  (\\frac{1}{2})^{2} = \\frac{\\pi}{4}$. Now for a very large number of generated points,\n",
    "\n",
    "![demo](../data/MonteCarloCalc.png)\n",
    "\n",
    "\n",
    "## The Algorithm\n",
    "\n",
    "1. Initialize cile_points, square_points and interval to 0.\n",
    "2. Generate random point x.\n",
    "3. Generate random point y.\n",
    "4. Calculate d = x*x + y*y.\n",
    "5. If d <= 1, increment circle_points.\n",
    "6. Increment square_points.\n",
    "7. Increment interval.\n",
    "8. If increment < NO_OF_ITERATIONS, repeat from 2.\n",
    "9. Calculate pi = 4*(circle_points/square_points).\n",
    "10. Terminate."
   ]
  },
  {
   "cell_type": "markdown",
   "id": "5ea85252",
   "metadata": {},
   "source": [
    "**Your mission:** time the function `monte_carlo_pi`, identify the bottlenecks and create a new version using cython functionality to speed up monte carlo simulation for PI, use 100,000 points and compare the speed up factor between python and cython, considering the following optimizations:\n",
    "- add type for variables used.\n",
    "- add type for the function\n",
    "- use c rand function instead of python rand function.\n",
    " \n",
    "*Hint: you can import function from C libraries using the following approach `from libc.<name of c library> cimport <library function name>`, replace the holders `<>` with the right identities for the current problem*"
   ]
  },
  {
   "cell_type": "code",
   "execution_count": 18,
   "id": "65dc57b6",
   "metadata": {},
   "outputs": [],
   "source": [
    "import random\n",
    "def monte_carlo_pi(nsamples):\n",
    "    pi = 0.\n",
    "   # Implement your code here\n",
    "    return pi"
   ]
  },
  {
   "cell_type": "markdown",
   "id": "cb39b433",
   "metadata": {},
   "source": [
    "## Numba exercises"
   ]
  },
  {
   "cell_type": "markdown",
   "id": "5dc9f33d",
   "metadata": {},
   "source": [
    "### Exercise 1\n",
    "\n",
    "Previously we considered how to approximateby Monte Carlo.\n",
    "\n",
    "- Use the same idea here, but make the code efficient using Numba.\n",
    "- Compare speed with and without Numba when the sample size is large."
   ]
  },
  {
   "cell_type": "code",
   "execution_count": 10,
   "id": "ae3421f8",
   "metadata": {},
   "outputs": [
    {
     "name": "stdout",
     "output_type": "stream",
     "text": [
      "Approximation de π avec Numba: 3.1414588\n",
      "Temps d'exécution avec Numba: 3.8345911502838135\n",
      "Approximation de π sans Numba: 3.1420272\n",
      "Temps d'exécution sans Numba: 14.851893663406372\n",
      "Le temps d'exécution sans Numba est 3.87 fois plus long que avec Numba\n"
     ]
    }
   ],
   "source": [
    "import numpy as np\n",
    "from numba import jit\n",
    "import time\n",
    "\n",
    "\n",
    "@jit(nopython=True)\n",
    "def approximate_pi_numba(samples):\n",
    "    count_inside = 0\n",
    "    for _ in range(samples):\n",
    "        x = np.random.rand()\n",
    "        y = np.random.rand()\n",
    "        if x**2 + y**2 <= 1:\n",
    "            count_inside += 1\n",
    "    return 4 * count_inside / samples\n",
    "\n",
    "# Fonction sans Numba\n",
    "def approximate_pi(samples):\n",
    "    count_inside = 0\n",
    "    for _ in range(samples):\n",
    "        x = np.random.rand()\n",
    "        y = np.random.rand()\n",
    "        if x**2 + y**2 <= 1:\n",
    "            count_inside += 1\n",
    "    return 4 * count_inside / samples\n",
    "\n",
    "# Nombre d'échantillons\n",
    "samples = 10000000\n",
    "\n",
    "# Mesure du temps d'exécution avec Numba\n",
    "start_time = time.time()\n",
    "pi_numba = approximate_pi_numba(samples)\n",
    "end_time = time.time()\n",
    "numba_time = end_time - start_time\n",
    "\n",
    "# Mesure du temps d'exécution sans Numba\n",
    "start_time = time.time()\n",
    "pi = approximate_pi(samples)\n",
    "end_time = time.time()\n",
    "plain_time = end_time - start_time\n",
    "\n",
    "print(\"Approximation de π avec Numba:\", pi_numba)\n",
    "print(\"Temps d'exécution avec Numba:\", numba_time)\n",
    "\n",
    "print(\"Approximation de π sans Numba:\", pi)\n",
    "print(\"Temps d'exécution sans Numba:\", plain_time)\n",
    "\n",
    "print(\"Le temps d'exécution sans Numba est {:.2f} fois plus long que avec Numba\".format(plain_time / numba_time))\n"
   ]
  },
  {
   "cell_type": "markdown",
   "id": "a776eddd",
   "metadata": {},
   "source": [
    "### Exercise 2\n",
    "\n",
    "In the [Introduction to Quantitative Economics](https://python.quantecon.org/intro.html) with Python lecture series you can learn all about finite-state Markov chains.\n",
    "\n",
    "For now, let's just concentrate on simulating a very simple example of such a chain.\n",
    "\n",
    "Suppose that the volatility of returns on an asset can be in one of two regimes — high or low.\n",
    "\n",
    "The transition probabilities across states are as follows ![markov](../data/markov.png)\n",
    "\n",
    "For example, let the period length be one day, and suppose the current state is high.\n",
    "\n",
    "We see from the graph that the state tomorrow will be\n",
    "\n",
    "- high with probability 0.8\n",
    "\n",
    "- low with probability 0.2\n",
    "\n",
    "Your task is to simulate a sequence of daily volatility states according to this rule.\n",
    "\n",
    "Set the length of the sequence to `n = 1_000_000` and start in the high state.\n",
    "\n",
    "Implement a pure Python version and a Numba version, and compare speeds.\n",
    "\n",
    "To test your code, evaluate the fraction of time that the chain spends in the low state.\n",
    "\n",
    "If your code is correct, it should be about 2/3.\n",
    "\n",
    "Hints:\n",
    "\n",
    "- Represent the low state as 0 and the high state as 1.\n",
    "\n",
    "- If you want to store integers in a NumPy array and then apply JIT compilation, use `x = np.empty(n, dtype=np.int_)`.\n"
   ]
  }
 ],
 "metadata": {
  "hide_input": false,
  "kernelspec": {
   "display_name": "Python 3 (ipykernel)",
   "language": "python",
   "name": "python3"
  },
  "language_info": {
   "codemirror_mode": {
    "name": "ipython",
    "version": 3
   },
   "file_extension": ".py",
   "mimetype": "text/x-python",
   "name": "python",
   "nbconvert_exporter": "python",
   "pygments_lexer": "ipython3",
   "version": "3.11.5"
  }
 },
 "nbformat": 4,
 "nbformat_minor": 5
}
