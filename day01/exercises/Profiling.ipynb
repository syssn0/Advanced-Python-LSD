{
 "cells": [
  {
   "cell_type": "markdown",
   "metadata": {},
   "source": [
    "## Exercise 1:\n",
    "\n",
    "- Profile the functions above, and explain the output\n",
    "- Propose an optimised version"
   ]
  },
  {
   "cell_type": "code",
   "execution_count": 15,
   "metadata": {},
   "outputs": [],
   "source": [
    "def sort_list(n):\n",
    "\t# Generate a list of n random integers\n",
    "\tlst = [random.randint(0, 10000) for _ in range(n)]\n",
    "\t\n",
    "\t# Sort the list\n",
    "\tlst.sort()\n",
    "\t\n",
    "\treturn lst"
   ]
  },
  {
   "cell_type": "code",
   "execution_count": null,
   "metadata": {},
   "outputs": [],
   "source": [
    "def fibonacci(n):\n",
    "\tif n <= 0:\n",
    "\t\treturn 0\n",
    "\telif n == 1:\n",
    "\t\treturn 1\n",
    "\telse:\n",
    "\t\treturn fibonacci(n-1) + fibonacci(n-2)"
   ]
  },
  {
   "cell_type": "code",
   "execution_count": 22,
   "metadata": {},
   "outputs": [],
   "source": [
    "def bubble_sort(arr):\n",
    "    n = len(arr)\n",
    "    for i in range(n):\n",
    "        for j in range(0, n-i-1):\n",
    "            if arr[j] > arr[j+1] :\n",
    "                arr[j], arr[j+1] = arr[j+1], arr[j]\n"
   ]
  },
  {
   "cell_type": "markdown",
   "metadata": {},
   "source": [
    "## Exercise 2:\n",
    "\n",
    "- Profile the memory of the functions above\n",
    "- Propose an optimised version"
   ]
  },
  {
   "cell_type": "code",
   "execution_count": 23,
   "metadata": {},
   "outputs": [
    {
     "name": "stdout",
     "output_type": "stream",
     "text": [
      "Writing large_list.py\n"
     ]
    }
   ],
   "source": [
    "%%file large_list.py\n",
    "\n",
    "def create_large_list(n):\n",
    "    return list(range(n))"
   ]
  },
  {
   "cell_type": "code",
   "execution_count": 24,
   "metadata": {},
   "outputs": [
    {
     "name": "stdout",
     "output_type": "stream",
     "text": [
      "The memory_profiler extension is already loaded. To reload it, use:\n",
      "  %reload_ext memory_profiler\n"
     ]
    }
   ],
   "source": [
    "%load_ext memory_profiler"
   ]
  },
  {
   "cell_type": "code",
   "execution_count": 26,
   "metadata": {},
   "outputs": [
    {
     "name": "stdout",
     "output_type": "stream",
     "text": [
      "\n"
     ]
    },
    {
     "data": {
      "text/plain": [
       "Filename: /home/kissami/Documents/GITHUB/Advanced-Python-LSD/day01/exercises/large_list.py\n",
       "\n",
       "Line #    Mem usage    Increment  Occurrences   Line Contents\n",
       "=============================================================\n",
       "     2     50.0 MiB     50.0 MiB           1   def create_large_list(n):\n",
       "     3   3914.4 MiB   3864.3 MiB           1       return list(range(n))"
      ]
     },
     "metadata": {},
     "output_type": "display_data"
    }
   ],
   "source": [
    "from large_list import create_large_list\n",
    "%mprun -f create_large_list create_large_list(10**8)"
   ]
  },
  {
   "cell_type": "code",
   "execution_count": 1,
   "metadata": {},
   "outputs": [
    {
     "name": "stdout",
     "output_type": "stream",
     "text": [
      "Overwriting large_list.py\n"
     ]
    }
   ],
   "source": [
    "%%file large_list.py\n",
    "\n",
    "def memory_hungry_function_with_lists():\n",
    "    big_list = [[[1 for _ in range(100)] for _ in range(100)] for _ in range(100)]  # Creating a large nested list\n",
    "    result = sum(sum(sum(sublist) for sublist in inner_list) for inner_list in big_list)  # Performing a memory-intensive operation on the list\n",
    "    return result"
   ]
  },
  {
   "cell_type": "code",
   "execution_count": 2,
   "metadata": {},
   "outputs": [],
   "source": [
    "%load_ext memory_profiler"
   ]
  },
  {
   "cell_type": "code",
   "execution_count": 3,
   "metadata": {},
   "outputs": [
    {
     "name": "stdout",
     "output_type": "stream",
     "text": [
      "\n"
     ]
    },
    {
     "data": {
      "text/plain": [
       "Filename: /home/kissami/Documents/GITHUB/Advanced-Python-LSD/day01/exercises/large_list.py\n",
       "\n",
       "Line #    Mem usage    Increment  Occurrences   Line Contents\n",
       "=============================================================\n",
       "     2     48.3 MiB     48.3 MiB           1   def memory_hungry_function_with_lists():\n",
       "     3     57.2 MiB      8.9 MiB     1030303       big_list = [[[1 for _ in range(100)] for _ in range(100)] for _ in range(100)]  # Creating a large nested list\n",
       "     4     57.2 MiB      0.0 MiB       20403       result = sum(sum(sum(sublist) for sublist in inner_list) for inner_list in big_list)  # Performing a memory-intensive operation on the list\n",
       "     5     57.2 MiB      0.0 MiB           1       return result"
      ]
     },
     "metadata": {},
     "output_type": "display_data"
    }
   ],
   "source": [
    "from large_list import memory_hungry_function_with_lists\n",
    "%mprun -f memory_hungry_function_with_lists memory_hungry_function_with_lists()"
   ]
  },
  {
   "cell_type": "code",
   "execution_count": 1,
   "metadata": {},
   "outputs": [
    {
     "name": "stdout",
     "output_type": "stream",
     "text": [
      "Overwriting large_list.py\n"
     ]
    }
   ],
   "source": [
    "%%file large_list.py\n",
    "\n",
    "def optimized_memory_function_with_lists():\n",
    "    chunk_size = 100  # Define a chunk size\n",
    "    total_sum = 0\n",
    "\n",
    "    for _ in range(10):  # Process 10 chunks\n",
    "        chunk = [[[1 for _ in range(chunk_size)] for _ in range(chunk_size)] for _ in range(chunk_size)]\n",
    "        chunk_sum = sum(sum(sum(sublist) for sublist in inner_list) for inner_list in chunk)\n",
    "        total_sum += chunk_sum\n",
    "\n",
    "    return total_sum\n"
   ]
  },
  {
   "cell_type": "code",
   "execution_count": 2,
   "metadata": {},
   "outputs": [],
   "source": [
    "%load_ext memory_profiler"
   ]
  },
  {
   "cell_type": "code",
   "execution_count": 3,
   "metadata": {},
   "outputs": [
    {
     "name": "stdout",
     "output_type": "stream",
     "text": [
      "*** KeyboardInterrupt exception caught in code being profiled.\n"
     ]
    },
    {
     "data": {
      "text/plain": [
       "Filename: /home/kissami/Documents/GITHUB/Advanced-Python-LSD/day01/exercises/large_list.py\n",
       "\n",
       "Line #    Mem usage    Increment  Occurrences   Line Contents\n",
       "=============================================================\n",
       "     2     48.1 MiB     48.1 MiB           1   def optimized_memory_function_with_lists():\n",
       "     3     48.1 MiB      0.0 MiB           1       chunk_size = 100  # Define a chunk size\n",
       "     4     48.1 MiB      0.0 MiB           1       total_sum = 0\n",
       "     5                                         \n",
       "     6     48.1 MiB      0.0 MiB           1       for _ in range(10):  # Process 10 chunks\n",
       "     7     53.6 MiB   -346.7 MiB      656585           chunk = [[[1 for _ in range(chunk_size)] for _ in range(chunk_size)] for _ in range(chunk_size)]\n",
       "     8                                                 chunk_sum = sum(sum(sum(sublist) for sublist in inner_list) for inner_list in chunk)\n",
       "     9                                                 total_sum += chunk_sum\n",
       "    10                                         \n",
       "    11                                             return total_sum"
      ]
     },
     "metadata": {},
     "output_type": "display_data"
    }
   ],
   "source": [
    "from large_list import optimized_memory_function_with_lists\n",
    "%mprun -f optimized_memory_function_with_lists optimized_memory_function_with_lists()"
   ]
  },
  {
   "cell_type": "code",
   "execution_count": null,
   "metadata": {},
   "outputs": [],
   "source": []
  }
 ],
 "metadata": {
  "kernelspec": {
   "display_name": "Python 3 (ipykernel)",
   "language": "python",
   "name": "python3"
  },
  "language_info": {
   "codemirror_mode": {
    "name": "ipython",
    "version": 3
   },
   "file_extension": ".py",
   "mimetype": "text/x-python",
   "name": "python",
   "nbconvert_exporter": "python",
   "pygments_lexer": "ipython3",
   "version": "3.11.5"
  }
 },
 "nbformat": 4,
 "nbformat_minor": 4
}
